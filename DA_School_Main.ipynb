{
 "cells": [
  {
   "cell_type": "markdown",
   "metadata": {},
   "source": [
    "### Часть 1. Загрузка и обработка датасета"
   ]
  },
  {
   "cell_type": "code",
   "execution_count": 1,
   "metadata": {
    "ExecuteTime": {
     "end_time": "2023-05-12T12:57:38.303113Z",
     "start_time": "2023-05-12T12:57:38.301627Z"
    },
    "scrolled": true
   },
   "outputs": [],
   "source": [
    "import pandas as pd\n",
    "import numpy as np\n",
    "import re\n",
    "import datetime as dt\n",
    "import pickle as pkl\n",
    "import warnings\n",
    "from sklearn.model_selection import train_test_split\n",
    "from sklearn import model_selection, metrics\n",
    "from sklearn.preprocessing import MultiLabelBinarizer\n",
    "from sklearn.model_selection import GridSearchCV\n",
    "from sklearn.metrics import mean_squared_error\n",
    "from sklearn.metrics import r2_score\n",
    "import xgboost as xgb\n",
    "import eli5\n",
    "import seaborn\n",
    "import pymorphy2\n",
    "from textwrap import wrap\n",
    "\n",
    "import matplotlib.pyplot as plt\n",
    "%matplotlib inline\n",
    "\n",
    "warnings.filterwarnings('ignore')\n"
   ]
  },
  {
   "cell_type": "code",
   "execution_count": 2,
   "metadata": {},
   "outputs": [
    {
     "name": "stdout",
     "output_type": "stream",
     "text": [
      "Загрузка файла: vac2023-05-14.pkl\n",
      "Загрузка файла: vac2023-05-16.pkl\n",
      "Загрузка файла: vac2023-05-17.pkl\n",
      "Загрузка файла: vac2023-05-18.pkl\n",
      "Загрузка файла: vac2023-05-19.pkl\n",
      "Загрузка файла: vac2023-05-20.pkl\n",
      "Загрузка файла: vac2023-05-21.pkl\n",
      "Загрузка файла: vac2023-05-22.pkl\n",
      "Загрузка файла: vac2023-05-23.pkl\n",
      "Загрузка файла: vac2023-05-24.pkl\n",
      "Загрузка файла: vac2023-05-25.pkl\n",
      "Загрузка файла: vac2023-05-26.pkl\n",
      "Загрузка файла: vac2023-05-27.pkl\n",
      "Загрузка файла: vac2023-05-28.pkl\n",
      "Загрузка файла: vac2023-05-29.pkl\n",
      "Загрузка файла: vac_1.pkl\n",
      "Загрузка файла: vac_2.pkl\n"
     ]
    }
   ],
   "source": [
    "# загрузка в датасет всех ранее скачанных файлов с вакансиями\n",
    "\n",
    "from pathlib import Path\n",
    " \n",
    "directory = ''\n",
    " \n",
    "df = pd.DataFrame()    \n",
    "files = Path(directory).glob('vac*.pkl')\n",
    "for file in files:\n",
    "    print(f'Загрузка файла: {file}')\n",
    "    with open(file, 'rb') as f:\n",
    "        df1 = pkl.load(f)\n",
    "    df = pd.concat([df, df1])\n",
    "    "
   ]
  },
  {
   "cell_type": "code",
   "execution_count": 3,
   "metadata": {},
   "outputs": [
    {
     "name": "stdout",
     "output_type": "stream",
     "text": [
      "Загружены 13227 вакансий\n"
     ]
    }
   ],
   "source": [
    "# удаление дубликатов, id вакансии - индекс\n",
    "\n",
    "df.drop_duplicates(subset = ['id'], inplace = True)\n",
    "df.set_index('id', inplace = True)\n",
    "print(f'Загружены {df.shape[0]} вакансий')\n"
   ]
  },
  {
   "cell_type": "code",
   "execution_count": 4,
   "metadata": {
    "ExecuteTime": {
     "end_time": "2023-05-12T12:57:38.420188Z",
     "start_time": "2023-05-12T12:57:38.386611Z"
    },
    "scrolled": true
   },
   "outputs": [
    {
     "data": {
      "text/html": [
       "<div>\n",
       "<style scoped>\n",
       "    .dataframe tbody tr th:only-of-type {\n",
       "        vertical-align: middle;\n",
       "    }\n",
       "\n",
       "    .dataframe tbody tr th {\n",
       "        vertical-align: top;\n",
       "    }\n",
       "\n",
       "    .dataframe thead th {\n",
       "        text-align: right;\n",
       "    }\n",
       "</style>\n",
       "<table border=\"1\" class=\"dataframe\">\n",
       "  <thead>\n",
       "    <tr style=\"text-align: right;\">\n",
       "      <th></th>\n",
       "      <th>name</th>\n",
       "      <th>area</th>\n",
       "      <th>salary_from</th>\n",
       "      <th>salary_to</th>\n",
       "      <th>salary_currency</th>\n",
       "      <th>salary_gross</th>\n",
       "      <th>city</th>\n",
       "      <th>experience</th>\n",
       "      <th>schedule</th>\n",
       "      <th>employment</th>\n",
       "      <th>description</th>\n",
       "      <th>key_skills</th>\n",
       "      <th>accept_handicapped</th>\n",
       "      <th>professional_roles</th>\n",
       "      <th>employer</th>\n",
       "      <th>published_at</th>\n",
       "      <th>has_test</th>\n",
       "      <th>test</th>\n",
       "      <th>accept_temporary</th>\n",
       "      <th>languages</th>\n",
       "    </tr>\n",
       "    <tr>\n",
       "      <th>id</th>\n",
       "      <th></th>\n",
       "      <th></th>\n",
       "      <th></th>\n",
       "      <th></th>\n",
       "      <th></th>\n",
       "      <th></th>\n",
       "      <th></th>\n",
       "      <th></th>\n",
       "      <th></th>\n",
       "      <th></th>\n",
       "      <th></th>\n",
       "      <th></th>\n",
       "      <th></th>\n",
       "      <th></th>\n",
       "      <th></th>\n",
       "      <th></th>\n",
       "      <th></th>\n",
       "      <th></th>\n",
       "      <th></th>\n",
       "      <th></th>\n",
       "    </tr>\n",
       "  </thead>\n",
       "  <tbody>\n",
       "    <tr>\n",
       "      <th>80352728</th>\n",
       "      <td>аналитик</td>\n",
       "      <td>Тбилиси</td>\n",
       "      <td>550.0</td>\n",
       "      <td>NaN</td>\n",
       "      <td>EUR</td>\n",
       "      <td>False</td>\n",
       "      <td>None</td>\n",
       "      <td>От 1 года до 3 лет</td>\n",
       "      <td>Полный день</td>\n",
       "      <td>Полная занятость</td>\n",
       "      <td>Одна из крупнейших транспортно-логистических к...</td>\n",
       "      <td>[{'name': 'Внимательность'}, {'name': 'Усидчив...</td>\n",
       "      <td>False</td>\n",
       "      <td>[{'id': '10', 'name': 'Аналитик'}]</td>\n",
       "      <td>HGFO Georgia LLC</td>\n",
       "      <td>2023-05-12T12:41:54+0300</td>\n",
       "      <td>False</td>\n",
       "      <td>None</td>\n",
       "      <td>False</td>\n",
       "      <td>None</td>\n",
       "    </tr>\n",
       "    <tr>\n",
       "      <th>80362648</th>\n",
       "      <td>data analyst (junior)</td>\n",
       "      <td>Минск</td>\n",
       "      <td>1400.0</td>\n",
       "      <td>NaN</td>\n",
       "      <td>BYR</td>\n",
       "      <td>True</td>\n",
       "      <td>None</td>\n",
       "      <td>Нет опыта</td>\n",
       "      <td>Удаленная работа</td>\n",
       "      <td>Полная занятость</td>\n",
       "      <td>Мы международная команда, активно растем, разв...</td>\n",
       "      <td>[{'name': 'Data Analysis'}, {'name': 'Работа с...</td>\n",
       "      <td>False</td>\n",
       "      <td>[{'id': '10', 'name': 'Аналитик'}]</td>\n",
       "      <td>Биггико</td>\n",
       "      <td>2023-05-12T14:48:40+0300</td>\n",
       "      <td>False</td>\n",
       "      <td>None</td>\n",
       "      <td>False</td>\n",
       "      <td>None</td>\n",
       "    </tr>\n",
       "    <tr>\n",
       "      <th>80344751</th>\n",
       "      <td>бизнес-ассистент</td>\n",
       "      <td>Польша</td>\n",
       "      <td>1000.0</td>\n",
       "      <td>NaN</td>\n",
       "      <td>EUR</td>\n",
       "      <td>False</td>\n",
       "      <td>None</td>\n",
       "      <td>От 1 года до 3 лет</td>\n",
       "      <td>Удаленная работа</td>\n",
       "      <td>Полная занятость</td>\n",
       "      <td>Приветствую тебя, мой ассистент и будущий напа...</td>\n",
       "      <td>[{'name': 'Тайм-менеджмент'}, {'name': 'Англий...</td>\n",
       "      <td>False</td>\n",
       "      <td>[{'id': '10', 'name': 'Аналитик'}]</td>\n",
       "      <td>Туристическая компания Санбакс</td>\n",
       "      <td>2023-05-12T10:59:31+0300</td>\n",
       "      <td>True</td>\n",
       "      <td>True</td>\n",
       "      <td>False</td>\n",
       "      <td>None</td>\n",
       "    </tr>\n",
       "    <tr>\n",
       "      <th>80359825</th>\n",
       "      <td>bi-analyst</td>\n",
       "      <td>Астана</td>\n",
       "      <td>800000.0</td>\n",
       "      <td>NaN</td>\n",
       "      <td>KZT</td>\n",
       "      <td>False</td>\n",
       "      <td>Астана</td>\n",
       "      <td>От 3 до 6 лет</td>\n",
       "      <td>Полный день</td>\n",
       "      <td>Полная занятость</td>\n",
       "      <td>Обязанности:  Выявление и определение потребно...</td>\n",
       "      <td>[{'name': 'Системный анализ'}, {'name': 'Atlas...</td>\n",
       "      <td>False</td>\n",
       "      <td>[{'id': '156', 'name': 'BI-аналитик, аналитик ...</td>\n",
       "      <td>ALLUR AUTO</td>\n",
       "      <td>2023-05-12T14:17:12+0300</td>\n",
       "      <td>False</td>\n",
       "      <td>None</td>\n",
       "      <td>False</td>\n",
       "      <td>eng b2</td>\n",
       "    </tr>\n",
       "    <tr>\n",
       "      <th>80253990</th>\n",
       "      <td>data scientist (intern)</td>\n",
       "      <td>Москва</td>\n",
       "      <td>NaN</td>\n",
       "      <td>NaN</td>\n",
       "      <td>None</td>\n",
       "      <td>None</td>\n",
       "      <td>Москва</td>\n",
       "      <td>Нет опыта</td>\n",
       "      <td>Полный день</td>\n",
       "      <td>Стажировка</td>\n",
       "      <td>We are looking for a bright and passionate int...</td>\n",
       "      <td>[{'name': 'Python'}, {'name': 'PyTorch'}, {'na...</td>\n",
       "      <td>False</td>\n",
       "      <td>[{'id': '165', 'name': 'Дата-сайентист'}]</td>\n",
       "      <td>Aramco Innovations</td>\n",
       "      <td>2023-05-13T16:23:06+0300</td>\n",
       "      <td>False</td>\n",
       "      <td>None</td>\n",
       "      <td>True</td>\n",
       "      <td>eng b1</td>\n",
       "    </tr>\n",
       "  </tbody>\n",
       "</table>\n",
       "</div>"
      ],
      "text/plain": [
       "                             name     area  salary_from  salary_to   \n",
       "id                                                                   \n",
       "80352728                 аналитик  Тбилиси        550.0        NaN  \\\n",
       "80362648    data analyst (junior)    Минск       1400.0        NaN   \n",
       "80344751         бизнес-ассистент   Польша       1000.0        NaN   \n",
       "80359825               bi-analyst   Астана     800000.0        NaN   \n",
       "80253990  data scientist (intern)   Москва          NaN        NaN   \n",
       "\n",
       "         salary_currency salary_gross    city          experience   \n",
       "id                                                                  \n",
       "80352728             EUR        False    None  От 1 года до 3 лет  \\\n",
       "80362648             BYR         True    None           Нет опыта   \n",
       "80344751             EUR        False    None  От 1 года до 3 лет   \n",
       "80359825             KZT        False  Астана       От 3 до 6 лет   \n",
       "80253990            None         None  Москва           Нет опыта   \n",
       "\n",
       "                  schedule        employment   \n",
       "id                                             \n",
       "80352728       Полный день  Полная занятость  \\\n",
       "80362648  Удаленная работа  Полная занятость   \n",
       "80344751  Удаленная работа  Полная занятость   \n",
       "80359825       Полный день  Полная занятость   \n",
       "80253990       Полный день        Стажировка   \n",
       "\n",
       "                                                description   \n",
       "id                                                            \n",
       "80352728  Одна из крупнейших транспортно-логистических к...  \\\n",
       "80362648  Мы международная команда, активно растем, разв...   \n",
       "80344751  Приветствую тебя, мой ассистент и будущий напа...   \n",
       "80359825  Обязанности:  Выявление и определение потребно...   \n",
       "80253990  We are looking for a bright and passionate int...   \n",
       "\n",
       "                                                 key_skills   \n",
       "id                                                            \n",
       "80352728  [{'name': 'Внимательность'}, {'name': 'Усидчив...  \\\n",
       "80362648  [{'name': 'Data Analysis'}, {'name': 'Работа с...   \n",
       "80344751  [{'name': 'Тайм-менеджмент'}, {'name': 'Англий...   \n",
       "80359825  [{'name': 'Системный анализ'}, {'name': 'Atlas...   \n",
       "80253990  [{'name': 'Python'}, {'name': 'PyTorch'}, {'na...   \n",
       "\n",
       "          accept_handicapped   \n",
       "id                             \n",
       "80352728               False  \\\n",
       "80362648               False   \n",
       "80344751               False   \n",
       "80359825               False   \n",
       "80253990               False   \n",
       "\n",
       "                                         professional_roles   \n",
       "id                                                            \n",
       "80352728                 [{'id': '10', 'name': 'Аналитик'}]  \\\n",
       "80362648                 [{'id': '10', 'name': 'Аналитик'}]   \n",
       "80344751                 [{'id': '10', 'name': 'Аналитик'}]   \n",
       "80359825  [{'id': '156', 'name': 'BI-аналитик, аналитик ...   \n",
       "80253990          [{'id': '165', 'name': 'Дата-сайентист'}]   \n",
       "\n",
       "                                employer              published_at  has_test   \n",
       "id                                                                             \n",
       "80352728                HGFO Georgia LLC  2023-05-12T12:41:54+0300     False  \\\n",
       "80362648                         Биггико  2023-05-12T14:48:40+0300     False   \n",
       "80344751  Туристическая компания Санбакс  2023-05-12T10:59:31+0300      True   \n",
       "80359825                      ALLUR AUTO  2023-05-12T14:17:12+0300     False   \n",
       "80253990              Aramco Innovations  2023-05-13T16:23:06+0300     False   \n",
       "\n",
       "          test  accept_temporary languages  \n",
       "id                                          \n",
       "80352728  None             False      None  \n",
       "80362648  None             False      None  \n",
       "80344751  True             False      None  \n",
       "80359825  None             False    eng b2  \n",
       "80253990  None              True    eng b1  "
      ]
     },
     "execution_count": 4,
     "metadata": {},
     "output_type": "execute_result"
    }
   ],
   "source": [
    "pd.set_option('display.max_columns', None)\n",
    "df.head()"
   ]
  },
  {
   "cell_type": "code",
   "execution_count": 5,
   "metadata": {
    "ExecuteTime": {
     "end_time": "2023-05-12T12:57:38.596872Z",
     "start_time": "2023-05-12T12:57:38.420402Z"
    }
   },
   "outputs": [],
   "source": [
    "# чистка от спецсимволов, знаков препинания, перевод текстовых полей к нижнему регистру\n",
    "\n",
    "df = df.replace(to_replace= '[^\\\\da-zA-Zа-яёА-ЯЁ\\- ]', value = '', regex = True)\n",
    "df[['name', 'description']] = df[['name', 'description']].apply(lambda x: x.astype(str).str.lower())\n"
   ]
  },
  {
   "cell_type": "code",
   "execution_count": 6,
   "metadata": {},
   "outputs": [
    {
     "data": {
      "text/plain": [
       "(13227, 20)"
      ]
     },
     "execution_count": 6,
     "metadata": {},
     "output_type": "execute_result"
    }
   ],
   "source": [
    "df.shape"
   ]
  },
  {
   "cell_type": "code",
   "execution_count": 7,
   "metadata": {
    "ExecuteTime": {
     "end_time": "2023-05-12T12:57:38.648770Z",
     "start_time": "2023-05-12T12:57:38.597229Z"
    }
   },
   "outputs": [],
   "source": [
    "# убираем из датасета вакансии, не касающиеся дата аналатики - системных, бизнес- и финансовых аналитиков, а также аналитиков 1С\n",
    "\n",
    "df = df[~df['name'].apply(lambda x: any(k in x for k in ['финансовый', 'системный', 'бизнес', '1c', '1с', 'system']))]\n"
   ]
  },
  {
   "cell_type": "code",
   "execution_count": 8,
   "metadata": {},
   "outputs": [],
   "source": [
    "dx = df.copy()"
   ]
  },
  {
   "cell_type": "code",
   "execution_count": 9,
   "metadata": {
    "ExecuteTime": {
     "end_time": "2023-05-12T12:57:38.656496Z",
     "start_time": "2023-05-12T12:57:38.649138Z"
    }
   },
   "outputs": [],
   "source": [
    "# убираем из текстовых полей стоп-слова\n",
    "\n",
    "stop_words = ['по', 'с', 'и', 'в', 'г', 'со']\n",
    "dx['name_2'] = dx['name'].apply(lambda x: [item for item in x.split() if item not in stop_words])\n"
   ]
  },
  {
   "cell_type": "code",
   "execution_count": null,
   "metadata": {
    "ExecuteTime": {
     "end_time": "2023-05-12T13:08:05.321297Z",
     "start_time": "2023-05-12T13:08:05.300773Z"
    }
   },
   "outputs": [],
   "source": [
    "# mask = dx['skill_list'].apply(lambda x: 'Навыки работы с возражениями' in x)\n",
    "# dx1 = dx[mask]\n",
    "# dx1.head()"
   ]
  },
  {
   "cell_type": "code",
   "execution_count": 10,
   "metadata": {
    "ExecuteTime": {
     "end_time": "2023-05-12T13:02:49.375829Z",
     "start_time": "2023-05-12T13:02:49.300196Z"
    }
   },
   "outputs": [],
   "source": [
    "# Лемматизируем текстовые поля\n",
    "morph = pymorphy2.MorphAnalyzer()\n",
    "\n",
    "def lemmatize(words):\n",
    "    return ' '.join([morph.parse(w)[0].normal_form for w in words])\n",
    "\n",
    "dx['name_3'] = dx['name_2'].apply(lambda x: [morph.parse(w)[0].normal_form for w in x])"
   ]
  },
  {
   "cell_type": "code",
   "execution_count": 11,
   "metadata": {
    "ExecuteTime": {
     "end_time": "2023-05-12T13:02:52.379517Z",
     "start_time": "2023-05-12T13:02:52.371777Z"
    }
   },
   "outputs": [],
   "source": [
    "# Переводим поля из словарей в листы\n",
    "\n",
    "dx['skill_list'] = dx['key_skills'].apply(lambda x: [val for dic in x for val in dic.values()])\n",
    "dx['role'] = dx['professional_roles'].apply(lambda x: [val for dic in x for val in dic.values()][1])\n"
   ]
  },
  {
   "cell_type": "code",
   "execution_count": null,
   "metadata": {
    "ExecuteTime": {
     "end_time": "2023-05-12T13:06:25.565031Z",
     "start_time": "2023-05-12T13:06:25.561357Z"
    }
   },
   "outputs": [],
   "source": [
    "# import collections\n",
    "# import itertools\n",
    "# x = collections.Counter(itertools.chain.from_iterable(v for v in dx['name_3']))\n",
    "# x.most_common()"
   ]
  },
  {
   "cell_type": "markdown",
   "metadata": {},
   "source": [
    "### Часть 2. Исследование датасета"
   ]
  },
  {
   "cell_type": "code",
   "execution_count": 12,
   "metadata": {
    "ExecuteTime": {
     "end_time": "2023-05-12T12:33:21.999696Z",
     "start_time": "2023-05-12T12:33:21.985295Z"
    }
   },
   "outputs": [
    {
     "name": "stdout",
     "output_type": "stream",
     "text": [
      "Только 28.8% записей содержат информацию о размере зарплаты (RUR)\n"
     ]
    }
   ],
   "source": [
    "# выделение датасета зарплат\n",
    "\n",
    "salary = dx[((~dx['salary_from'].isna()) | (~dx['salary_to'].isna())) & (dx['salary_currency'] == 'RUR')][['salary_from', 'salary_to', 'salary_gross']]\n",
    "print(f'Только {salary.shape[0] / dx.shape[0]:.1%} записей содержат информацию о размере зарплаты (RUR)')\n"
   ]
  },
  {
   "cell_type": "code",
   "execution_count": 13,
   "metadata": {
    "ExecuteTime": {
     "end_time": "2023-05-12T12:33:22.900300Z",
     "start_time": "2023-05-12T12:33:22.21Z"
    },
    "scrolled": true
   },
   "outputs": [
    {
     "name": "stdout",
     "output_type": "stream",
     "text": [
      "Всего 2641 записей с указанной зарплатой, 1035 записей содержат и нижнюю и верхнюю границу зарплаты\n"
     ]
    }
   ],
   "source": [
    "# обработка зарплат - перевод зарплаты до вычета налогов к зарплате после вычета налогов\n",
    "# расчет диапазонов зарплат, определение типичного диапазона, расчет незаполненных значений зарплат, расчет размера \"средней\" \n",
    "# зарплаты для каждой вакансии, исправление зарплат ошибочно указанных в тыс. руб. \n",
    "\n",
    "salary['salary_from'] = np.where(salary['salary_from'] < 1000, salary['salary_from'] * 1000, salary['salary_from'])\n",
    "salary['salary_to'] = np.where(salary['salary_to'] < 1000, salary['salary_to'] * 1000, salary['salary_to'])\n",
    "salary['salary_from'] = np.where(salary['salary_gross'], salary['salary_from'] * 0.87, salary['salary_from'])\n",
    "salary['salary_to'] = np.where(salary['salary_gross'], salary['salary_to'] * 0.87, salary['salary_to'])\n",
    "\n",
    "salary['growth'] = (salary['salary_to'] / salary['salary_from']) - 1\n",
    "print(f'Всего {salary.shape[0]} записей с указанной зарплатой, {salary[~salary[\"growth\"].isna()].shape[0]} записей содержат и нижнюю и верхнюю границу зарплаты')\n",
    "\n",
    "avg_sg = round(salary['growth'].mean() / 2, 2)"
   ]
  },
  {
   "cell_type": "code",
   "execution_count": 14,
   "metadata": {
    "ExecuteTime": {
     "end_time": "2023-05-12T12:33:22.283060Z",
     "start_time": "2023-05-12T12:33:22.20486Z"
    },
    "scrolled": true
   },
   "outputs": [
    {
     "data": {
      "image/png": "[encoded data removed]",
      "text/plain": [
       "<Figure size 720x432 with 1 Axes>"
      ]
     },
     "metadata": {
      "needs_background": "light"
     },
     "output_type": "display_data"
    }
   ],
   "source": [
    "# Чтобы определить, как обработать записи с указанием только одной из границ зарплаты, исследуем, \n",
    "# как распределяется переменная \"диапазон зарплаты\"\n",
    "# Эта переменная определяется как (отношение верхней границы зарплаты к нижней) минус единица\n",
    "\n",
    "x = salary[~salary[\"growth\"].isna()]['growth']\n",
    "x.plot.hist(bins = 20, alpha = 0.5, figsize = (10, 6), zorder = 2, rwidth = 0.9, title = 'распределение диапазона зарплат');\n"
   ]
  },
  {
   "cell_type": "markdown",
   "metadata": {},
   "source": [
    "На графике видно, что у подавляющей доли записей верхняя граница зарплаты выше нижней не более чем в два раза"
   ]
  },
  {
   "cell_type": "code",
   "execution_count": 15,
   "metadata": {
    "ExecuteTime": {
     "end_time": "2023-05-12T12:33:22.748900Z",
     "start_time": "2023-05-12T12:33:22.28557Z"
    }
   },
   "outputs": [
    {
     "data": {
      "image/png": "[encoded data removed]",
      "text/plain": [
       "<Figure size 720x432 with 1 Axes>"
      ]
     },
     "metadata": {
      "needs_background": "light"
     },
     "output_type": "display_data"
    }
   ],
   "source": [
    "# ограничим верхнюю границу гистограммы\n",
    "\n",
    "x[x < 2].plot.hist(bins = 20, alpha = 0.5, figsize = (10, 6), zorder = 2, rwidth = 0.9, title = 'распределение диапазона зарплат');"
   ]
  },
  {
   "cell_type": "markdown",
   "metadata": {},
   "source": [
    "Наиболее популярным решением работодателей является указывать одно и то же значение в качестве и нижней, и верхней границ зарплат. Поэтому в тех случаях, когда верхняя граница не будет равна нижней, я буду вычислять среднее значение зарплаты, а когда указана только одна граница зарплаты, буду принимать именно ее за среднее значение. Таким образом, я получу целевую переменную для регрессионной модели. "
   ]
  },
  {
   "cell_type": "code",
   "execution_count": 16,
   "metadata": {
    "ExecuteTime": {
     "end_time": "2023-05-12T12:33:22.169539Z",
     "start_time": "2023-05-12T12:33:22.75223Z"
    }
   },
   "outputs": [],
   "source": [
    "# Вычисление целевой переменной\n",
    "\n",
    "salary['salary_from'].fillna(salary['salary_to'], inplace = True)\n",
    "salary['salary_to'].fillna(salary['salary_from'], inplace = True)\n",
    "salary['salary_mid'] = (salary['salary_from'] + salary['salary_to']) / 2\n"
   ]
  },
  {
   "cell_type": "code",
   "execution_count": 17,
   "metadata": {},
   "outputs": [
    {
     "data": {
      "image/png": "[encoded data removed]",
      "text/plain": [
       "<Figure size 720x432 with 1 Axes>"
      ]
     },
     "metadata": {
      "needs_background": "light"
     },
     "output_type": "display_data"
    }
   ],
   "source": [
    "salary['salary_mid'].plot.hist(bins = 20, alpha = 0.5, figsize = (10, 6), zorder = 2, rwidth = 0.9, title = 'распределение целевой переменной');"
   ]
  },
  {
   "cell_type": "markdown",
   "metadata": {},
   "source": [
    "Распределение зарплат имеет длинный хвост - это вполне объясняется природой переменной"
   ]
  },
  {
   "cell_type": "code",
   "execution_count": 18,
   "metadata": {
    "ExecuteTime": {
     "end_time": "2023-05-12T12:33:22.348968Z",
     "start_time": "2023-05-12T12:33:22.314730Z"
    }
   },
   "outputs": [],
   "source": [
    "# добавляем целевую переменную к датасету\n",
    "\n",
    "dx = pd.merge(dx, salary[['salary_mid']], how = 'left', left_index = True, right_index = True)\n"
   ]
  },
  {
   "cell_type": "code",
   "execution_count": 19,
   "metadata": {},
   "outputs": [],
   "source": [
    "# для обучения выделим записи датасета, в которых есть информация о зарплате\n",
    "\n",
    "dfin = dx[dx['salary_mid'].notna()]\n"
   ]
  },
  {
   "cell_type": "code",
   "execution_count": 20,
   "metadata": {},
   "outputs": [
    {
     "data": {
      "text/plain": [
       "(2641, 25)"
      ]
     },
     "execution_count": 20,
     "metadata": {},
     "output_type": "execute_result"
    }
   ],
   "source": [
    "dfin.shape"
   ]
  },
  {
   "cell_type": "code",
   "execution_count": 21,
   "metadata": {},
   "outputs": [
    {
     "data": {
      "text/html": [
       "<div>\n",
       "<style scoped>\n",
       "    .dataframe tbody tr th:only-of-type {\n",
       "        vertical-align: middle;\n",
       "    }\n",
       "\n",
       "    .dataframe tbody tr th {\n",
       "        vertical-align: top;\n",
       "    }\n",
       "\n",
       "    .dataframe thead th {\n",
       "        text-align: right;\n",
       "    }\n",
       "</style>\n",
       "<table border=\"1\" class=\"dataframe\">\n",
       "  <thead>\n",
       "    <tr style=\"text-align: right;\">\n",
       "      <th></th>\n",
       "      <th>name</th>\n",
       "      <th>area</th>\n",
       "      <th>salary_from</th>\n",
       "      <th>salary_to</th>\n",
       "      <th>salary_currency</th>\n",
       "      <th>salary_gross</th>\n",
       "      <th>city</th>\n",
       "      <th>experience</th>\n",
       "      <th>schedule</th>\n",
       "      <th>employment</th>\n",
       "      <th>description</th>\n",
       "      <th>key_skills</th>\n",
       "      <th>accept_handicapped</th>\n",
       "      <th>professional_roles</th>\n",
       "      <th>employer</th>\n",
       "      <th>published_at</th>\n",
       "      <th>has_test</th>\n",
       "      <th>test</th>\n",
       "      <th>accept_temporary</th>\n",
       "      <th>languages</th>\n",
       "      <th>name_2</th>\n",
       "      <th>name_3</th>\n",
       "      <th>skill_list</th>\n",
       "      <th>role</th>\n",
       "      <th>salary_mid</th>\n",
       "    </tr>\n",
       "    <tr>\n",
       "      <th>id</th>\n",
       "      <th></th>\n",
       "      <th></th>\n",
       "      <th></th>\n",
       "      <th></th>\n",
       "      <th></th>\n",
       "      <th></th>\n",
       "      <th></th>\n",
       "      <th></th>\n",
       "      <th></th>\n",
       "      <th></th>\n",
       "      <th></th>\n",
       "      <th></th>\n",
       "      <th></th>\n",
       "      <th></th>\n",
       "      <th></th>\n",
       "      <th></th>\n",
       "      <th></th>\n",
       "      <th></th>\n",
       "      <th></th>\n",
       "      <th></th>\n",
       "      <th></th>\n",
       "      <th></th>\n",
       "      <th></th>\n",
       "      <th></th>\n",
       "      <th></th>\n",
       "    </tr>\n",
       "  </thead>\n",
       "  <tbody>\n",
       "    <tr>\n",
       "      <th>80329475</th>\n",
       "      <td>специалист в аналитический отдел  работа с excel</td>\n",
       "      <td>Новосибирск</td>\n",
       "      <td>45000.0</td>\n",
       "      <td>60000.0</td>\n",
       "      <td>RUR</td>\n",
       "      <td>False</td>\n",
       "      <td>Новосибирск</td>\n",
       "      <td>Нет опыта</td>\n",
       "      <td>Полный день</td>\n",
       "      <td>Полная занятость</td>\n",
       "      <td>привет мы - команда гиллион современный финанс...</td>\n",
       "      <td>[{'name': 'Анализ данных'}, {'name': 'Управлен...</td>\n",
       "      <td>False</td>\n",
       "      <td>[{'id': '10', 'name': 'Аналитик'}]</td>\n",
       "      <td>МКК Гиллион</td>\n",
       "      <td>2023-05-12T0636180300</td>\n",
       "      <td>False</td>\n",
       "      <td>None</td>\n",
       "      <td>False</td>\n",
       "      <td>None</td>\n",
       "      <td>[специалист, аналитический, отдел, работа, excel]</td>\n",
       "      <td>[специалист, аналитический, отдел, работа, excel]</td>\n",
       "      <td>[Анализ данных, Управленческая отчетность, Про...</td>\n",
       "      <td>Аналитик</td>\n",
       "      <td>52500.0</td>\n",
       "    </tr>\n",
       "    <tr>\n",
       "      <th>80372352</th>\n",
       "      <td>аналитик</td>\n",
       "      <td>Санкт-Петербург</td>\n",
       "      <td>80000.0</td>\n",
       "      <td>80000.0</td>\n",
       "      <td>RUR</td>\n",
       "      <td>False</td>\n",
       "      <td>None</td>\n",
       "      <td>От 3 до 6 лет</td>\n",
       "      <td>Полный день</td>\n",
       "      <td>Полная занятость</td>\n",
       "      <td>вкустер - сеть ярких продуктовых магазинов фор...</td>\n",
       "      <td>[{'name': 'Управление персоналом'}, {'name': '...</td>\n",
       "      <td>False</td>\n",
       "      <td>[{'id': '10', 'name': 'Аналитик'}]</td>\n",
       "      <td>Вкустер</td>\n",
       "      <td>2023-05-12T1701250300</td>\n",
       "      <td>False</td>\n",
       "      <td>None</td>\n",
       "      <td>False</td>\n",
       "      <td>None</td>\n",
       "      <td>[аналитик]</td>\n",
       "      <td>[аналитик]</td>\n",
       "      <td>[Управление персоналом, Управление продажами, ...</td>\n",
       "      <td>Аналитик</td>\n",
       "      <td>80000.0</td>\n",
       "    </tr>\n",
       "    <tr>\n",
       "      <th>80334913</th>\n",
       "      <td>специалист по работе с аналитическими данными ...</td>\n",
       "      <td>Челябинск</td>\n",
       "      <td>45000.0</td>\n",
       "      <td>NaN</td>\n",
       "      <td>RUR</td>\n",
       "      <td>False</td>\n",
       "      <td>Челябинск</td>\n",
       "      <td>От 1 года до 3 лет</td>\n",
       "      <td>Полный день</td>\n",
       "      <td>Полная занятость</td>\n",
       "      <td>обязанности  подготовка внутренних документов ...</td>\n",
       "      <td>[{'name': 'Сводные таблицы'}, {'name': 'Google...</td>\n",
       "      <td>False</td>\n",
       "      <td>[{'id': '10', 'name': 'Аналитик'}]</td>\n",
       "      <td>ФОНД ЦЕНТР ПОДДЕРЖКИ ГРАЖДАНСКИХ ИНИЦИАТИВ И Р...</td>\n",
       "      <td>2023-05-12T0854120300</td>\n",
       "      <td>False</td>\n",
       "      <td>None</td>\n",
       "      <td>False</td>\n",
       "      <td>None</td>\n",
       "      <td>[специалист, работе, аналитическими, данными, ...</td>\n",
       "      <td>[специалист, работа, аналитический, данные, де...</td>\n",
       "      <td>[Сводные таблицы, Google таблицы, Базы данных,...</td>\n",
       "      <td>Аналитик</td>\n",
       "      <td>45000.0</td>\n",
       "    </tr>\n",
       "    <tr>\n",
       "      <th>80361286</th>\n",
       "      <td>специалист по аналитике и ценообразованию</td>\n",
       "      <td>Челябинск</td>\n",
       "      <td>60000.0</td>\n",
       "      <td>NaN</td>\n",
       "      <td>RUR</td>\n",
       "      <td>False</td>\n",
       "      <td>Челябинск</td>\n",
       "      <td>От 1 года до 3 лет</td>\n",
       "      <td>Полный день</td>\n",
       "      <td>Полная занятость</td>\n",
       "      <td>обязанности  управление товарными запасами на ...</td>\n",
       "      <td>[{'name': 'Расчет премий и бонусов'}, {'name':...</td>\n",
       "      <td>False</td>\n",
       "      <td>[{'id': '10', 'name': 'Аналитик'}]</td>\n",
       "      <td>Кондтроль</td>\n",
       "      <td>2023-05-12T1433300300</td>\n",
       "      <td>False</td>\n",
       "      <td>None</td>\n",
       "      <td>False</td>\n",
       "      <td>deu a1</td>\n",
       "      <td>[специалист, аналитике, ценообразованию]</td>\n",
       "      <td>[специалист, аналитик, ценообразование]</td>\n",
       "      <td>[Расчет премий и бонусов, 1С: Торговля, Продви...</td>\n",
       "      <td>Аналитик</td>\n",
       "      <td>60000.0</td>\n",
       "    </tr>\n",
       "    <tr>\n",
       "      <th>78091528</th>\n",
       "      <td>аналитикменеджер проектаспециалист по обработк...</td>\n",
       "      <td>Тюмень</td>\n",
       "      <td>50000.0</td>\n",
       "      <td>NaN</td>\n",
       "      <td>RUR</td>\n",
       "      <td>True</td>\n",
       "      <td>Тюмень</td>\n",
       "      <td>От 3 до 6 лет</td>\n",
       "      <td>Полный день</td>\n",
       "      <td>Полная занятость</td>\n",
       "      <td>техноавиа  одна из ведущих российских компаний...</td>\n",
       "      <td>[{'name': 'Деловая переписка'}, {'name': '1С: ...</td>\n",
       "      <td>False</td>\n",
       "      <td>[{'id': '10', 'name': 'Аналитик'}]</td>\n",
       "      <td>Техноавиа-Тюмень</td>\n",
       "      <td>2023-05-14T1545250300</td>\n",
       "      <td>False</td>\n",
       "      <td>None</td>\n",
       "      <td>False</td>\n",
       "      <td>None</td>\n",
       "      <td>[аналитикменеджер, проектаспециалист, обработк...</td>\n",
       "      <td>[аналитикменеджер, проектаспециалист, обработк...</td>\n",
       "      <td>[Деловая переписка, 1С: Предприятие 8, Аналити...</td>\n",
       "      <td>Аналитик</td>\n",
       "      <td>43500.0</td>\n",
       "    </tr>\n",
       "  </tbody>\n",
       "</table>\n",
       "</div>"
      ],
      "text/plain": [
       "                                                       name             area   \n",
       "id                                                                             \n",
       "80329475   специалист в аналитический отдел  работа с excel      Новосибирск  \\\n",
       "80372352                                           аналитик  Санкт-Петербург   \n",
       "80334913  специалист по работе с аналитическими данными ...        Челябинск   \n",
       "80361286          специалист по аналитике и ценообразованию        Челябинск   \n",
       "78091528  аналитикменеджер проектаспециалист по обработк...           Тюмень   \n",
       "\n",
       "          salary_from  salary_to salary_currency salary_gross         city   \n",
       "id                                                                           \n",
       "80329475      45000.0    60000.0             RUR        False  Новосибирск  \\\n",
       "80372352      80000.0    80000.0             RUR        False         None   \n",
       "80334913      45000.0        NaN             RUR        False    Челябинск   \n",
       "80361286      60000.0        NaN             RUR        False    Челябинск   \n",
       "78091528      50000.0        NaN             RUR         True       Тюмень   \n",
       "\n",
       "                  experience     schedule        employment   \n",
       "id                                                            \n",
       "80329475           Нет опыта  Полный день  Полная занятость  \\\n",
       "80372352       От 3 до 6 лет  Полный день  Полная занятость   \n",
       "80334913  От 1 года до 3 лет  Полный день  Полная занятость   \n",
       "80361286  От 1 года до 3 лет  Полный день  Полная занятость   \n",
       "78091528       От 3 до 6 лет  Полный день  Полная занятость   \n",
       "\n",
       "                                                description   \n",
       "id                                                            \n",
       "80329475  привет мы - команда гиллион современный финанс...  \\\n",
       "80372352  вкустер - сеть ярких продуктовых магазинов фор...   \n",
       "80334913  обязанности  подготовка внутренних документов ...   \n",
       "80361286  обязанности  управление товарными запасами на ...   \n",
       "78091528  техноавиа  одна из ведущих российских компаний...   \n",
       "\n",
       "                                                 key_skills   \n",
       "id                                                            \n",
       "80329475  [{'name': 'Анализ данных'}, {'name': 'Управлен...  \\\n",
       "80372352  [{'name': 'Управление персоналом'}, {'name': '...   \n",
       "80334913  [{'name': 'Сводные таблицы'}, {'name': 'Google...   \n",
       "80361286  [{'name': 'Расчет премий и бонусов'}, {'name':...   \n",
       "78091528  [{'name': 'Деловая переписка'}, {'name': '1С: ...   \n",
       "\n",
       "          accept_handicapped                  professional_roles   \n",
       "id                                                                 \n",
       "80329475               False  [{'id': '10', 'name': 'Аналитик'}]  \\\n",
       "80372352               False  [{'id': '10', 'name': 'Аналитик'}]   \n",
       "80334913               False  [{'id': '10', 'name': 'Аналитик'}]   \n",
       "80361286               False  [{'id': '10', 'name': 'Аналитик'}]   \n",
       "78091528               False  [{'id': '10', 'name': 'Аналитик'}]   \n",
       "\n",
       "                                                   employer   \n",
       "id                                                            \n",
       "80329475                                        МКК Гиллион  \\\n",
       "80372352                                            Вкустер   \n",
       "80334913  ФОНД ЦЕНТР ПОДДЕРЖКИ ГРАЖДАНСКИХ ИНИЦИАТИВ И Р...   \n",
       "80361286                                          Кондтроль   \n",
       "78091528                                   Техноавиа-Тюмень   \n",
       "\n",
       "                   published_at  has_test  test  accept_temporary languages   \n",
       "id                                                                            \n",
       "80329475  2023-05-12T0636180300     False  None             False      None  \\\n",
       "80372352  2023-05-12T1701250300     False  None             False      None   \n",
       "80334913  2023-05-12T0854120300     False  None             False      None   \n",
       "80361286  2023-05-12T1433300300     False  None             False    deu a1   \n",
       "78091528  2023-05-14T1545250300     False  None             False      None   \n",
       "\n",
       "                                                     name_2   \n",
       "id                                                            \n",
       "80329475  [специалист, аналитический, отдел, работа, excel]  \\\n",
       "80372352                                         [аналитик]   \n",
       "80334913  [специалист, работе, аналитическими, данными, ...   \n",
       "80361286           [специалист, аналитике, ценообразованию]   \n",
       "78091528  [аналитикменеджер, проектаспециалист, обработк...   \n",
       "\n",
       "                                                     name_3   \n",
       "id                                                            \n",
       "80329475  [специалист, аналитический, отдел, работа, excel]  \\\n",
       "80372352                                         [аналитик]   \n",
       "80334913  [специалист, работа, аналитический, данные, де...   \n",
       "80361286            [специалист, аналитик, ценообразование]   \n",
       "78091528  [аналитикменеджер, проектаспециалист, обработк...   \n",
       "\n",
       "                                                 skill_list      role   \n",
       "id                                                                      \n",
       "80329475  [Анализ данных, Управленческая отчетность, Про...  Аналитик  \\\n",
       "80372352  [Управление персоналом, Управление продажами, ...  Аналитик   \n",
       "80334913  [Сводные таблицы, Google таблицы, Базы данных,...  Аналитик   \n",
       "80361286  [Расчет премий и бонусов, 1С: Торговля, Продви...  Аналитик   \n",
       "78091528  [Деловая переписка, 1С: Предприятие 8, Аналити...  Аналитик   \n",
       "\n",
       "          salary_mid  \n",
       "id                    \n",
       "80329475     52500.0  \n",
       "80372352     80000.0  \n",
       "80334913     45000.0  \n",
       "80361286     60000.0  \n",
       "78091528     43500.0  "
      ]
     },
     "execution_count": 21,
     "metadata": {},
     "output_type": "execute_result"
    }
   ],
   "source": [
    "dfin.head()"
   ]
  },
  {
   "cell_type": "code",
   "execution_count": 22,
   "metadata": {},
   "outputs": [],
   "source": [
    "filename = 'vac_analysis.sav'\n",
    "pkl.dump(dfin, open(filename, 'wb'))\n",
    " "
   ]
  },
  {
   "cell_type": "code",
   "execution_count": null,
   "metadata": {},
   "outputs": [],
   "source": [
    "# with open('vac_analysis.sav', 'rb') as f:\n",
    "#     df = pkl.load(f)"
   ]
  },
  {
   "cell_type": "code",
   "execution_count": 23,
   "metadata": {
    "scrolled": true
   },
   "outputs": [],
   "source": [
    "# Чтобы убедиться в том, что есть переменные, влияющие на уровень зарплаты, построим boxplots некоторых перспективных переменных:\n",
    "# например: город работодателя, требуемый опыт, профессиональная роль\n",
    "\n",
    "a = list(dfin[dfin['area'] == 'Москва']['salary_mid'])\n",
    "b = list(dfin[dfin['area'] != 'Москва']['salary_mid'])\n",
    "data = [a, b]\n",
    "\n",
    "l = []\n",
    "labels_e = []\n",
    "for k, v in dict(list(dfin.groupby('experience')['salary_mid'])).items():\n",
    "    labels_e.append(k)\n",
    "    l.append(list(v))\n",
    "    \n",
    "l1 = []\n",
    "labels_r = []\n",
    "for k, v in dict(list(dfin.groupby('role')['salary_mid'])).items():\n",
    "    labels_r.append(k)\n",
    "    l1.append(list(v))"
   ]
  },
  {
   "cell_type": "code",
   "execution_count": 24,
   "metadata": {
    "scrolled": true
   },
   "outputs": [
    {
     "data": {
      "image/png": "[encoded data removed]",
      "text/plain": [
       "<Figure size 1440x504 with 3 Axes>"
      ]
     },
     "metadata": {
      "needs_background": "light"
     },
     "output_type": "display_data"
    }
   ],
   "source": [
    "# отрисовка графиков\n",
    "\n",
    "fig, axes = plt.subplots(ncols = 3, figsize = (20, 7), sharey = True)\n",
    "\n",
    "axes[0].boxplot(data, labels = ['Москва', ' не Москва'], showmeans = True)\n",
    "axes[0].set_title('Город работодателя', fontsize = 10)\n",
    "\n",
    "labels_e = ['\\n'.join(wrap(l, 10)) for l in labels_e]\n",
    "axes[1].boxplot(l, labels = labels_e, showmeans = True)\n",
    "axes[1].set_title('Требуемый опыт', fontsize = 10)\n",
    "\n",
    "labels_r = ['\\n'.join(wrap(l, 10)) for l in labels_r]\n",
    "axes[2].boxplot(l1, labels = labels_r, showmeans = True)\n",
    "axes[2].set_title('Профессиональная роль', fontsize = 10);\n"
   ]
  },
  {
   "cell_type": "markdown",
   "metadata": {},
   "source": [
    "Приведенные выше графики указывают на возможность построения ML-модели предсказания зарплаты, т.к. существуют переменные явно влияющие на ее уровень. Видно, что зарплаты в Москве примерно в 1,5 раза выше, чем в среднем в остальных регионах. Видны явная зависимость зарплаты от опыта и ее зависимость от профессиональной роли. "
   ]
  },
  {
   "cell_type": "markdown",
   "metadata": {},
   "source": [
    "### Часть 3. Моделирование"
   ]
  },
  {
   "cell_type": "code",
   "execution_count": 25,
   "metadata": {
    "ExecuteTime": {
     "end_time": "2023-05-12T12:33:22.364867Z",
     "start_time": "2023-05-12T12:33:22.349316Z"
    }
   },
   "outputs": [],
   "source": [
    "# удаляем ненужные переменные, кодируем категориальные переменные \n",
    "\n",
    "dx.drop(['name', 'name_2', 'salary_from', 'salary_to', 'salary_currency', 'salary_gross',  'city', 'description', 'key_skills', 'professional_roles', 'employer', 'published_at'], axis = 1, inplace = True)\n",
    "\n",
    "categorial_cols = ['area', 'experience', 'schedule', 'employment', 'accept_handicapped', 'has_test', 'test', 'accept_temporary', 'languages', 'role'] \n",
    "dx = pd.get_dummies(dx, columns = categorial_cols)\n"
   ]
  },
  {
   "cell_type": "code",
   "execution_count": 26,
   "metadata": {
    "ExecuteTime": {
     "end_time": "2023-05-12T12:33:22.666725Z",
     "start_time": "2023-05-12T12:33:22.590658Z"
    }
   },
   "outputs": [],
   "source": [
    "# кодируем переменные, которые являются перечнями \n",
    "\n",
    "mlb = MultiLabelBinarizer()\n",
    "dx = dx.join(pd.DataFrame(mlb.fit_transform(dx.pop('name_3')), columns = mlb.classes_, index = dx.index))\n",
    "dx = dx.join(pd.DataFrame(mlb.fit_transform(dx.pop('skill_list')), columns = mlb.classes_, index = dx.index), rsuffix = '_2')\n"
   ]
  },
  {
   "cell_type": "code",
   "execution_count": 27,
   "metadata": {
    "ExecuteTime": {
     "end_time": "2023-05-12T12:33:22.788029Z",
     "start_time": "2023-05-12T12:33:22.682344Z"
    }
   },
   "outputs": [],
   "source": [
    "# копируем только те записи, в которых есть целевая переменная и удаляем те переменные, в которых менее трех ненулевых значений\n",
    "\n",
    "dfin = dx[dx['salary_mid'].notna()]\n",
    "dfin = dfin[dfin.columns[dfin.sum() > 2]]\n",
    "dfin = dfin * 1\n"
   ]
  },
  {
   "cell_type": "code",
   "execution_count": 28,
   "metadata": {},
   "outputs": [
    {
     "data": {
      "text/plain": [
       "(2641, 1122)"
      ]
     },
     "execution_count": 28,
     "metadata": {},
     "output_type": "execute_result"
    }
   ],
   "source": [
    "dfin.shape"
   ]
  },
  {
   "cell_type": "code",
   "execution_count": 29,
   "metadata": {},
   "outputs": [],
   "source": [
    "filename = 'vac_full.sav'\n",
    "pkl.dump(dfin, open(filename, 'wb'))\n",
    " "
   ]
  },
  {
   "cell_type": "code",
   "execution_count": 4,
   "metadata": {},
   "outputs": [],
   "source": [
    "# при необходимости загрузить датасет\n",
    "\n",
    "with open('vac_full.sav', 'rb') as f:\n",
    "    dfin = pkl.load(f)"
   ]
  },
  {
   "cell_type": "code",
   "execution_count": 3,
   "metadata": {},
   "outputs": [
    {
     "data": {
      "text/html": [
       "<div>\n",
       "<style scoped>\n",
       "    .dataframe tbody tr th:only-of-type {\n",
       "        vertical-align: middle;\n",
       "    }\n",
       "\n",
       "    .dataframe tbody tr th {\n",
       "        vertical-align: top;\n",
       "    }\n",
       "\n",
       "    .dataframe thead th {\n",
       "        text-align: right;\n",
       "    }\n",
       "</style>\n",
       "<table border=\"1\" class=\"dataframe\">\n",
       "  <thead>\n",
       "    <tr style=\"text-align: right;\">\n",
       "      <th></th>\n",
       "      <th>salary_mid</th>\n",
       "      <th>area_Алматы</th>\n",
       "      <th>area_Астрахань</th>\n",
       "      <th>area_Балашиха</th>\n",
       "      <th>area_Барнаул</th>\n",
       "      <th>area_Белгород</th>\n",
       "      <th>area_Бердск</th>\n",
       "      <th>area_Бийск</th>\n",
       "      <th>area_Благовещенск Амурская область</th>\n",
       "      <th>area_Брянск</th>\n",
       "      <th>...</th>\n",
       "      <th>машинное обучение</th>\n",
       "      <th>навыки статистической обработки данных</th>\n",
       "      <th>написание аналитических текстов</th>\n",
       "      <th>обучение сотрудников</th>\n",
       "      <th>оформление документации</th>\n",
       "      <th>прогнозирование продаж</th>\n",
       "      <th>продвинутый пользователь Excel</th>\n",
       "      <th>разработка нормативных документов</th>\n",
       "      <th>сводные таблицы</th>\n",
       "      <th>умение работать с программами Word, Excel, Power Point</th>\n",
       "    </tr>\n",
       "    <tr>\n",
       "      <th>id</th>\n",
       "      <th></th>\n",
       "      <th></th>\n",
       "      <th></th>\n",
       "      <th></th>\n",
       "      <th></th>\n",
       "      <th></th>\n",
       "      <th></th>\n",
       "      <th></th>\n",
       "      <th></th>\n",
       "      <th></th>\n",
       "      <th></th>\n",
       "      <th></th>\n",
       "      <th></th>\n",
       "      <th></th>\n",
       "      <th></th>\n",
       "      <th></th>\n",
       "      <th></th>\n",
       "      <th></th>\n",
       "      <th></th>\n",
       "      <th></th>\n",
       "      <th></th>\n",
       "    </tr>\n",
       "  </thead>\n",
       "  <tbody>\n",
       "    <tr>\n",
       "      <th>80329475</th>\n",
       "      <td>52500.0</td>\n",
       "      <td>0</td>\n",
       "      <td>0</td>\n",
       "      <td>0</td>\n",
       "      <td>0</td>\n",
       "      <td>0</td>\n",
       "      <td>0</td>\n",
       "      <td>0</td>\n",
       "      <td>0</td>\n",
       "      <td>0</td>\n",
       "      <td>...</td>\n",
       "      <td>0</td>\n",
       "      <td>0</td>\n",
       "      <td>0</td>\n",
       "      <td>0</td>\n",
       "      <td>0</td>\n",
       "      <td>0</td>\n",
       "      <td>0</td>\n",
       "      <td>0</td>\n",
       "      <td>0</td>\n",
       "      <td>0</td>\n",
       "    </tr>\n",
       "    <tr>\n",
       "      <th>80372352</th>\n",
       "      <td>80000.0</td>\n",
       "      <td>0</td>\n",
       "      <td>0</td>\n",
       "      <td>0</td>\n",
       "      <td>0</td>\n",
       "      <td>0</td>\n",
       "      <td>0</td>\n",
       "      <td>0</td>\n",
       "      <td>0</td>\n",
       "      <td>0</td>\n",
       "      <td>...</td>\n",
       "      <td>0</td>\n",
       "      <td>0</td>\n",
       "      <td>0</td>\n",
       "      <td>0</td>\n",
       "      <td>0</td>\n",
       "      <td>0</td>\n",
       "      <td>0</td>\n",
       "      <td>0</td>\n",
       "      <td>0</td>\n",
       "      <td>0</td>\n",
       "    </tr>\n",
       "    <tr>\n",
       "      <th>80334913</th>\n",
       "      <td>45000.0</td>\n",
       "      <td>0</td>\n",
       "      <td>0</td>\n",
       "      <td>0</td>\n",
       "      <td>0</td>\n",
       "      <td>0</td>\n",
       "      <td>0</td>\n",
       "      <td>0</td>\n",
       "      <td>0</td>\n",
       "      <td>0</td>\n",
       "      <td>...</td>\n",
       "      <td>0</td>\n",
       "      <td>0</td>\n",
       "      <td>0</td>\n",
       "      <td>0</td>\n",
       "      <td>0</td>\n",
       "      <td>0</td>\n",
       "      <td>0</td>\n",
       "      <td>0</td>\n",
       "      <td>0</td>\n",
       "      <td>0</td>\n",
       "    </tr>\n",
       "    <tr>\n",
       "      <th>80361286</th>\n",
       "      <td>60000.0</td>\n",
       "      <td>0</td>\n",
       "      <td>0</td>\n",
       "      <td>0</td>\n",
       "      <td>0</td>\n",
       "      <td>0</td>\n",
       "      <td>0</td>\n",
       "      <td>0</td>\n",
       "      <td>0</td>\n",
       "      <td>0</td>\n",
       "      <td>...</td>\n",
       "      <td>0</td>\n",
       "      <td>0</td>\n",
       "      <td>0</td>\n",
       "      <td>0</td>\n",
       "      <td>0</td>\n",
       "      <td>0</td>\n",
       "      <td>0</td>\n",
       "      <td>0</td>\n",
       "      <td>0</td>\n",
       "      <td>0</td>\n",
       "    </tr>\n",
       "    <tr>\n",
       "      <th>78091528</th>\n",
       "      <td>43500.0</td>\n",
       "      <td>0</td>\n",
       "      <td>0</td>\n",
       "      <td>0</td>\n",
       "      <td>0</td>\n",
       "      <td>0</td>\n",
       "      <td>0</td>\n",
       "      <td>0</td>\n",
       "      <td>0</td>\n",
       "      <td>0</td>\n",
       "      <td>...</td>\n",
       "      <td>0</td>\n",
       "      <td>0</td>\n",
       "      <td>0</td>\n",
       "      <td>0</td>\n",
       "      <td>0</td>\n",
       "      <td>0</td>\n",
       "      <td>0</td>\n",
       "      <td>0</td>\n",
       "      <td>0</td>\n",
       "      <td>0</td>\n",
       "    </tr>\n",
       "  </tbody>\n",
       "</table>\n",
       "<p>5 rows × 1122 columns</p>\n",
       "</div>"
      ],
      "text/plain": [
       "          salary_mid  area_Алматы  area_Астрахань  area_Балашиха   \n",
       "id                                                                 \n",
       "80329475     52500.0            0               0              0  \\\n",
       "80372352     80000.0            0               0              0   \n",
       "80334913     45000.0            0               0              0   \n",
       "80361286     60000.0            0               0              0   \n",
       "78091528     43500.0            0               0              0   \n",
       "\n",
       "          area_Барнаул  area_Белгород  area_Бердск  area_Бийск   \n",
       "id                                                               \n",
       "80329475             0              0            0           0  \\\n",
       "80372352             0              0            0           0   \n",
       "80334913             0              0            0           0   \n",
       "80361286             0              0            0           0   \n",
       "78091528             0              0            0           0   \n",
       "\n",
       "          area_Благовещенск Амурская область  area_Брянск  ...   \n",
       "id                                                         ...   \n",
       "80329475                                   0            0  ...  \\\n",
       "80372352                                   0            0  ...   \n",
       "80334913                                   0            0  ...   \n",
       "80361286                                   0            0  ...   \n",
       "78091528                                   0            0  ...   \n",
       "\n",
       "          машинное обучение  навыки статистической обработки данных   \n",
       "id                                                                    \n",
       "80329475                  0                                       0  \\\n",
       "80372352                  0                                       0   \n",
       "80334913                  0                                       0   \n",
       "80361286                  0                                       0   \n",
       "78091528                  0                                       0   \n",
       "\n",
       "          написание аналитических текстов  обучение сотрудников   \n",
       "id                                                                \n",
       "80329475                                0                     0  \\\n",
       "80372352                                0                     0   \n",
       "80334913                                0                     0   \n",
       "80361286                                0                     0   \n",
       "78091528                                0                     0   \n",
       "\n",
       "          оформление документации  прогнозирование продаж   \n",
       "id                                                          \n",
       "80329475                        0                       0  \\\n",
       "80372352                        0                       0   \n",
       "80334913                        0                       0   \n",
       "80361286                        0                       0   \n",
       "78091528                        0                       0   \n",
       "\n",
       "          продвинутый пользователь Excel  разработка нормативных документов   \n",
       "id                                                                            \n",
       "80329475                               0                                  0  \\\n",
       "80372352                               0                                  0   \n",
       "80334913                               0                                  0   \n",
       "80361286                               0                                  0   \n",
       "78091528                               0                                  0   \n",
       "\n",
       "          сводные таблицы   \n",
       "id                          \n",
       "80329475                0  \\\n",
       "80372352                0   \n",
       "80334913                0   \n",
       "80361286                0   \n",
       "78091528                0   \n",
       "\n",
       "          умение работать с программами Word, Excel, Power Point  \n",
       "id                                                                \n",
       "80329475                                                  0       \n",
       "80372352                                                  0       \n",
       "80334913                                                  0       \n",
       "80361286                                                  0       \n",
       "78091528                                                  0       \n",
       "\n",
       "[5 rows x 1122 columns]"
      ]
     },
     "execution_count": 3,
     "metadata": {},
     "output_type": "execute_result"
    }
   ],
   "source": [
    "dfin.head()"
   ]
  },
  {
   "cell_type": "code",
   "execution_count": 4,
   "metadata": {
    "ExecuteTime": {
     "end_time": "2023-05-12T13:14:19.460115Z",
     "start_time": "2023-05-12T13:14:19.455100Z"
    }
   },
   "outputs": [],
   "source": [
    "# формируем таблицу фичей и целевую переменную\n",
    "\n",
    "X = dfin.copy()\n",
    "X.drop(['salary_mid'], axis = 1, inplace = True)\n",
    "y = dfin['salary_mid']\n"
   ]
  },
  {
   "cell_type": "code",
   "execution_count": 5,
   "metadata": {
    "ExecuteTime": {
     "end_time": "2023-05-12T13:14:22.304286Z",
     "start_time": "2023-05-12T13:14:22.300941Z"
    }
   },
   "outputs": [],
   "source": [
    "# нормализуем целевую переменную, сохраним максимум и минимум в файл - они нам понадобятся для прогнозирования зарплат свежих вакансий\n",
    "\n",
    "normalized_y = (y - y.min()) / (y.max() - y.min())\n",
    "\n",
    "with open('Salary_bounds.dat', 'wb') as fp:\n",
    "    pkl.dump((y.min(), y.max()), fp)\n"
   ]
  },
  {
   "cell_type": "code",
   "execution_count": 6,
   "metadata": {
    "ExecuteTime": {
     "end_time": "2023-05-12T13:14:23.306193Z",
     "start_time": "2023-05-12T13:14:23.301077Z"
    }
   },
   "outputs": [],
   "source": [
    "# выделяем обучающую и контрольную выборки\n",
    "\n",
    "X_train, X_test, y_train, y_test = train_test_split(X, normalized_y, test_size = 0.2, random_state = 42)\n"
   ]
  },
  {
   "cell_type": "code",
   "execution_count": 7,
   "metadata": {},
   "outputs": [],
   "source": [
    "# записываем названия переменных в файл. Он нам понадобится для фильтрации переменных при обработке новых файлов вакансий\n",
    "with open('Model_features.dat', 'wb') as fp:\n",
    "    pkl.dump(X_train.columns, fp)\n",
    "    "
   ]
  },
  {
   "cell_type": "code",
   "execution_count": 8,
   "metadata": {},
   "outputs": [
    {
     "data": {
      "text/plain": [
       "(2112, 1121)"
      ]
     },
     "execution_count": 8,
     "metadata": {},
     "output_type": "execute_result"
    }
   ],
   "source": [
    "X_train.shape"
   ]
  },
  {
   "cell_type": "code",
   "execution_count": 36,
   "metadata": {
    "ExecuteTime": {
     "end_time": "2023-05-12T13:14:42.848200Z",
     "start_time": "2023-05-12T13:14:25.430959Z"
    }
   },
   "outputs": [
    {
     "name": "stdout",
     "output_type": "stream",
     "text": [
      "Wall time: 1min 5s\n"
     ]
    }
   ],
   "source": [
    "%%time\n",
    "# в качестве базовой модели используем Лассо регрессор, коэффициент регуляризации подберем путем перебора\n",
    "\n",
    "from sklearn.linear_model import Lasso\n",
    "from sklearn.model_selection import GridSearchCV\n",
    "\n",
    "lasso = Lasso(random_state = 42, max_iter = 1000, fit_intercept = False)\n",
    "alphas = np.logspace(-4, -0.5, 40)\n",
    "\n",
    "tuned_parameters = [{'alpha': alphas}]\n",
    "n_folds = 5\n",
    "\n",
    "clf = GridSearchCV(lasso, tuned_parameters, cv = n_folds, refit = False)\n",
    "clf.fit(X, normalized_y)\n",
    "scores = clf.cv_results_['mean_test_score']\n",
    "scores_std = clf.cv_results_['std_test_score']\n"
   ]
  },
  {
   "cell_type": "code",
   "execution_count": 37,
   "metadata": {
    "ExecuteTime": {
     "end_time": "2023-05-12T13:14:58.682670Z",
     "start_time": "2023-05-12T13:14:58.303312Z"
    },
    "scrolled": true
   },
   "outputs": [
    {
     "data": {
      "image/png": "[encoded data removed]",
      "text/plain": [
       "<Figure size 720x576 with 1 Axes>"
      ]
     },
     "metadata": {
      "needs_background": "light"
     },
     "output_type": "display_data"
    }
   ],
   "source": [
    "# график зависимости R^2 от параметра регуляризации\n",
    "\n",
    "plt.figure().set_size_inches(10, 8)\n",
    "plt.semilogx(alphas, scores)\n",
    "\n",
    "std_error = scores_std / np.sqrt(n_folds)\n",
    "\n",
    "plt.semilogx(alphas, scores + std_error, 'b--')\n",
    "plt.semilogx(alphas, scores - std_error, 'b--')\n",
    "\n",
    "plt.fill_between(alphas, scores + std_error, scores - std_error, alpha = 0.2)\n",
    "\n",
    "plt.ylabel('CV score +/- std error')\n",
    "plt.xlabel('alpha')\n",
    "plt.axhline(np.max(scores), linestyle = '--', color = '.5')\n",
    "plt.xlim(alphas[0], alphas[-1]);\n"
   ]
  },
  {
   "cell_type": "code",
   "execution_count": 38,
   "metadata": {
    "ExecuteTime": {
     "end_time": "2023-05-12T13:15:14.444412Z",
     "start_time": "2023-05-12T13:15:14.442027Z"
    }
   },
   "outputs": [
    {
     "name": "stdout",
     "output_type": "stream",
     "text": [
      "Максимум коэффициента детерминации R^2 равный 0.566 достигается при значении параметра регуляризации 0.00015118\n"
     ]
    }
   ],
   "source": [
    "print(f'Максимум коэффициента детерминации R^2 равный {scores.max():.3} достигается при значении параметра регуляризации {alphas[scores.argmax(axis = 0)]:.5}')"
   ]
  },
  {
   "cell_type": "code",
   "execution_count": 40,
   "metadata": {
    "ExecuteTime": {
     "end_time": "2023-05-12T13:16:52.346954Z",
     "start_time": "2023-05-12T13:16:52.299057Z"
    }
   },
   "outputs": [
    {
     "name": "stdout",
     "output_type": "stream",
     "text": [
      "Значение коэффициента детерминации на обучающей выборке: 0.711\n",
      "Значение коэффициента детерминации на тестовой выборке: 0.579\n"
     ]
    }
   ],
   "source": [
    "# пересчитаем модель с наилучшим параметром регуляризации и выведем метрики модели\n",
    "\n",
    "lasso = Lasso(random_state = 42, max_iter = 1000, alpha = alphas[scores.argmax(axis = 0)], fit_intercept = False)\n",
    "lasso.fit(X_train, y_train)\n",
    "\n",
    "print(f'Значение коэффициента детерминации на обучающей выборке: {lasso.score(X_train, y_train):.3}')\n",
    "print(f'Значение коэффициента детерминации на тестовой выборке: {lasso.score(X_test, y_test):.3}')\n"
   ]
  },
  {
   "cell_type": "code",
   "execution_count": 41,
   "metadata": {
    "ExecuteTime": {
     "end_time": "2023-05-12T13:17:04.308689Z",
     "start_time": "2023-05-12T13:17:04.300146Z"
    }
   },
   "outputs": [
    {
     "name": "stdout",
     "output_type": "stream",
     "text": [
      "Оценка RMSE: 0.087695\n"
     ]
    }
   ],
   "source": [
    "# рассчитаем метрику RMSE\n",
    "\n",
    "pred = lasso.predict(X_test)\n",
    "print(f'Оценка RMSE: {np.sqrt(mean_squared_error(y_test, pred)):.5}')\n"
   ]
  },
  {
   "cell_type": "code",
   "execution_count": 42,
   "metadata": {
    "ExecuteTime": {
     "end_time": "2023-05-12T13:17:11.310904Z",
     "start_time": "2023-05-12T13:17:11.302790Z"
    }
   },
   "outputs": [
    {
     "data": {
      "text/html": [
       "<div>\n",
       "<style scoped>\n",
       "    .dataframe tbody tr th:only-of-type {\n",
       "        vertical-align: middle;\n",
       "    }\n",
       "\n",
       "    .dataframe tbody tr th {\n",
       "        vertical-align: top;\n",
       "    }\n",
       "\n",
       "    .dataframe thead th {\n",
       "        text-align: right;\n",
       "    }\n",
       "</style>\n",
       "<table border=\"1\" class=\"dataframe\">\n",
       "  <thead>\n",
       "    <tr style=\"text-align: right;\">\n",
       "      <th></th>\n",
       "      <th>Weight?</th>\n",
       "      <th>Feature</th>\n",
       "    </tr>\n",
       "  </thead>\n",
       "  <tbody>\n",
       "    <tr>\n",
       "      <th>0</th>\n",
       "      <td>0.256</td>\n",
       "      <td>lead</td>\n",
       "    </tr>\n",
       "    <tr>\n",
       "      <th>1</th>\n",
       "      <td>0.228</td>\n",
       "      <td>исследователь</td>\n",
       "    </tr>\n",
       "    <tr>\n",
       "      <th>2</th>\n",
       "      <td>0.208</td>\n",
       "      <td>архитектор</td>\n",
       "    </tr>\n",
       "    <tr>\n",
       "      <th>3</th>\n",
       "      <td>0.199</td>\n",
       "      <td>experience_Более 6 лет</td>\n",
       "    </tr>\n",
       "    <tr>\n",
       "      <th>4</th>\n",
       "      <td>0.160</td>\n",
       "      <td>senior</td>\n",
       "    </tr>\n",
       "  </tbody>\n",
       "</table>\n",
       "</div>"
      ],
      "text/plain": [
       "   Weight?                 Feature\n",
       "0    0.256                    lead\n",
       "1    0.228           исследователь\n",
       "2    0.208              архитектор\n",
       "3    0.199  experience_Более 6 лет\n",
       "4    0.160                  senior"
      ]
     },
     "execution_count": 42,
     "metadata": {},
     "output_type": "execute_result"
    }
   ],
   "source": [
    "# сохраним самые \"важные\" фичи модели\n",
    "\n",
    "e_lasso = eli5.show_weights(lasso, top = -1, feature_names = X_train.columns.tolist())\n",
    "top_lasso = pd.read_html(e_lasso.data)[0]\n",
    "top_lasso[:5]\n"
   ]
  },
  {
   "cell_type": "code",
   "execution_count": 43,
   "metadata": {},
   "outputs": [],
   "source": [
    "# записываем модель на диск\n",
    "\n",
    "filename = 'lasso_model.sav'\n",
    "pkl.dump(lasso, open(filename, 'wb'))\n"
   ]
  },
  {
   "cell_type": "code",
   "execution_count": 9,
   "metadata": {
    "ExecuteTime": {
     "end_time": "2023-05-12T13:26:24.269373Z",
     "start_time": "2023-05-12T13:20:17.299379Z"
    }
   },
   "outputs": [
    {
     "name": "stdout",
     "output_type": "stream",
     "text": [
      "Лучшие гиперпараметры: {'learning_rate': 0.02, 'max_depth': 7, 'n_estimators': 800}\n",
      "Wall time: 29min 59s\n"
     ]
    }
   ],
   "source": [
    "%%time\n",
    "# подбор гиперпараметров модели xgboost\n",
    "\n",
    "xr = xgb.XGBRegressor(eval_metric = 'rmsle')\n",
    "param_grid = {'max_depth' : [5, 6, 7], \n",
    "              'n_estimators' : [600, 700, 800], \n",
    "              'learning_rate' : [0.01, 0.015, 0.02]}\n",
    "\n",
    "search = GridSearchCV(xr, param_grid, cv = 5).fit(X_train, y_train)\n",
    "\n",
    "print(f'Лучшие гиперпараметры: {search.best_params_}')\n"
   ]
  },
  {
   "cell_type": "code",
   "execution_count": 10,
   "metadata": {
    "ExecuteTime": {
     "end_time": "2023-05-12T13:28:01.961264Z",
     "start_time": "2023-05-12T13:27:58.304264Z"
    }
   },
   "outputs": [
    {
     "data": {
      "text/plain": [
       "XGBRegressor(base_score=None, booster=None, callbacks=None,\n",
       "             colsample_bylevel=None, colsample_bynode=None,\n",
       "             colsample_bytree=None, early_stopping_rounds=None,\n",
       "             enable_categorical=False, eval_metric='rmse', feature_types=None,\n",
       "             gamma=None, gpu_id=None, grow_policy=None, importance_type=None,\n",
       "             interaction_constraints=None, learning_rate=0.02, max_bin=None,\n",
       "             max_cat_threshold=None, max_cat_to_onehot=None,\n",
       "             max_delta_step=None, max_depth=7, max_leaves=None,\n",
       "             min_child_weight=None, missing=nan, monotone_constraints=None,\n",
       "             n_estimators=800, n_jobs=None, num_parallel_tree=None,\n",
       "             predictor=None, random_state=None, ...)"
      ]
     },
     "execution_count": 10,
     "metadata": {},
     "output_type": "execute_result"
    }
   ],
   "source": [
    "# обучение финальной модели\n",
    "\n",
    "xr = xgb.XGBRegressor(learning_rate = search.best_params_['learning_rate'], \n",
    "                      n_estimators = search.best_params_['n_estimators'],\n",
    "                      max_depth = search.best_params_['max_depth'], \n",
    "                      eval_metric = 'rmse')\n",
    "\n",
    "xr.fit(X_train, y_train); \n"
   ]
  },
  {
   "cell_type": "code",
   "execution_count": 13,
   "metadata": {
    "ExecuteTime": {
     "end_time": "2023-05-12T13:28:07.318017Z",
     "start_time": "2023-05-12T13:28:07.315323Z"
    }
   },
   "outputs": [
    {
     "name": "stdout",
     "output_type": "stream",
     "text": [
      "Обучающая выборка R2_score: 0.94696\n",
      "Тестовая выборка R2_score: 0.77386\n",
      "Оценка : 0.085588\n"
     ]
    }
   ],
   "source": [
    "# метрики модели\n",
    "\n",
    "print(f'Обучающая выборка R2_score: {np.sqrt(r2_score(y_train, xr.predict(X_train))):.5}')\n",
    "print(f'Тестовая выборка R2_score: {np.sqrt(r2_score(y_test, xr.predict(X_test))):.5}')\n",
    "RMSE = np.sqrt(mean_squared_error(y_test, xr.predict(X_test)))\n",
    "print(f'Оценка : {RMSE:.5}')\n"
   ]
  },
  {
   "cell_type": "markdown",
   "metadata": {},
   "source": [
    "Метрика R^2, рассчитанная на обучающей и на тестовой выборках весьма сильно различается. Это говорит о том, что модель переобучилась. Для борьбы с этим явлением попробуем уменьшить параметры max_depth и learning_rate. "
   ]
  },
  {
   "cell_type": "code",
   "execution_count": 16,
   "metadata": {},
   "outputs": [],
   "source": [
    "# обучение модели с модифицированными параметрами\n",
    "\n",
    "xr2 = xgb.XGBRegressor(learning_rate = 0.01, \n",
    "                      n_estimators = search.best_params_['n_estimators'],\n",
    "                      max_depth = 4, \n",
    "                      eval_metric = 'rmse')\n",
    "\n",
    "xr2.fit(X_train, y_train); \n"
   ]
  },
  {
   "cell_type": "code",
   "execution_count": 17,
   "metadata": {},
   "outputs": [
    {
     "name": "stdout",
     "output_type": "stream",
     "text": [
      "Обучающая выборка R2_score: 0.86632\n",
      "Тестовая выборка R2_score: 0.75518\n",
      "Оценка : 0.088583\n"
     ]
    }
   ],
   "source": [
    "# метрики модифицированной модели\n",
    "\n",
    "print(f'Обучающая выборка R2_score: {np.sqrt(r2_score(y_train, xr2.predict(X_train))):.5}')\n",
    "print(f'Тестовая выборка R2_score: {np.sqrt(r2_score(y_test, xr2.predict(X_test))):.5}')\n",
    "RMSE = np.sqrt(mean_squared_error(y_test, xr2.predict(X_test)))\n",
    "print(f'Оценка : {RMSE:.5}')\n"
   ]
  },
  {
   "cell_type": "markdown",
   "metadata": {},
   "source": [
    "Расхождение между метриками на обучающей и на тестовой выборках значительно снизилось, но значительно снизились и метрики качества модели. "
   ]
  },
  {
   "cell_type": "code",
   "execution_count": 20,
   "metadata": {
    "ExecuteTime": {
     "end_time": "2023-05-12T13:28:19.422131Z",
     "start_time": "2023-05-12T13:28:19.406424Z"
    }
   },
   "outputs": [
    {
     "data": {
      "text/html": [
       "<div>\n",
       "<style scoped>\n",
       "    .dataframe tbody tr th:only-of-type {\n",
       "        vertical-align: middle;\n",
       "    }\n",
       "\n",
       "    .dataframe tbody tr th {\n",
       "        vertical-align: top;\n",
       "    }\n",
       "\n",
       "    .dataframe thead th {\n",
       "        text-align: right;\n",
       "    }\n",
       "</style>\n",
       "<table border=\"1\" class=\"dataframe\">\n",
       "  <thead>\n",
       "    <tr style=\"text-align: right;\">\n",
       "      <th></th>\n",
       "      <th>Weight</th>\n",
       "      <th>Feature</th>\n",
       "    </tr>\n",
       "  </thead>\n",
       "  <tbody>\n",
       "    <tr>\n",
       "      <th>0</th>\n",
       "      <td>0.0619</td>\n",
       "      <td>experience_От 3 до 6 лет</td>\n",
       "    </tr>\n",
       "    <tr>\n",
       "      <th>1</th>\n",
       "      <td>0.0457</td>\n",
       "      <td>data</td>\n",
       "    </tr>\n",
       "    <tr>\n",
       "      <th>2</th>\n",
       "      <td>0.0399</td>\n",
       "      <td>area_Москва</td>\n",
       "    </tr>\n",
       "    <tr>\n",
       "      <th>3</th>\n",
       "      <td>0.0269</td>\n",
       "      <td>lead</td>\n",
       "    </tr>\n",
       "    <tr>\n",
       "      <th>4</th>\n",
       "      <td>0.0264</td>\n",
       "      <td>experience_Более 6 лет</td>\n",
       "    </tr>\n",
       "  </tbody>\n",
       "</table>\n",
       "</div>"
      ],
      "text/plain": [
       "   Weight                   Feature\n",
       "0  0.0619  experience_От 3 до 6 лет\n",
       "1  0.0457                      data\n",
       "2  0.0399               area_Москва\n",
       "3  0.0269                      lead\n",
       "4  0.0264    experience_Более 6 лет"
      ]
     },
     "execution_count": 20,
     "metadata": {},
     "output_type": "execute_result"
    }
   ],
   "source": [
    "# сохраним самые \"важные\" фичи модели\n",
    "\n",
    "e_xr = eli5.show_weights(xr2, top = -1, feature_names = X_train.columns.tolist())\n",
    "top_xr = pd.read_html(e_xr.data)[0]\n",
    "top_xr[:5]\n"
   ]
  },
  {
   "cell_type": "code",
   "execution_count": 21,
   "metadata": {},
   "outputs": [],
   "source": [
    "# сохранение модели\n",
    "\n",
    "filename = 'xgb_model.sav'\n",
    "pkl.dump(xr2, open(filename, 'wb'))"
   ]
  },
  {
   "cell_type": "code",
   "execution_count": 2,
   "metadata": {},
   "outputs": [],
   "source": [
    "#!pip install lightautoml==0.3.7.3 --user\n",
    "#AutoML\n",
    "\n",
    "from lightautoml.automl.presets.tabular_presets import TabularAutoML, TabularUtilizedAutoML\n",
    "from lightautoml.tasks import Task\n",
    "from lightautoml.report.report_deco import ReportDeco\n",
    "import torch\n"
   ]
  },
  {
   "cell_type": "code",
   "execution_count": 3,
   "metadata": {},
   "outputs": [],
   "source": [
    "# задаем параметры алгоритма\n",
    "\n",
    "N_THREADS = 4\n",
    "N_FOLDS = 5\n",
    "RANDOM_STATE = 42\n",
    "TEST_SIZE = 0.2\n",
    "TIMEOUT = 300\n",
    "TARGET_NAME = 'target'\n",
    "\n",
    "np.random.seed(RANDOM_STATE)\n",
    "torch.set_num_threads(N_THREADS)\n",
    "\n",
    "task = Task('reg')\n",
    "\n",
    "roles = {'target' : TARGET_NAME}\n",
    "\n",
    "automl = TabularAutoML(task = task, timeout = TIMEOUT, cpu_limit = N_THREADS, \\\n",
    "                       reader_params = {'n_jobs' : N_THREADS, 'cv' : N_FOLDS, 'random_state' : RANDOM_STATE})\n"
   ]
  },
  {
   "cell_type": "code",
   "execution_count": 5,
   "metadata": {},
   "outputs": [
    {
     "name": "stdout",
     "output_type": "stream",
     "text": [
      "Размер обучающей выборки: (2112, 1122), тестовой выборки: (529, 1122)\n"
     ]
    }
   ],
   "source": [
    "# выделяем целевую переменную, обучающую и тестовую выборки\n",
    "\n",
    "dfin['target'] = (dfin['salary_mid'] - dfin['salary_mid'].min()) / (dfin['salary_mid'].max() - dfin['salary_mid'].min())\n",
    "dfin.drop(columns = ['salary_mid'], inplace = True)\n",
    "\n",
    "train_data, test_data = train_test_split(dfin, test_size = TEST_SIZE, random_state = RANDOM_STATE)\n",
    "print(f'Размер обучающей выборки: {train_data.shape}, тестовой выборки: {test_data.shape}')\n"
   ]
  },
  {
   "cell_type": "code",
   "execution_count": 6,
   "metadata": {},
   "outputs": [
    {
     "name": "stdout",
     "output_type": "stream",
     "text": [
      "[08:38:15] Stdout logging level is INFO.\n",
      "[08:38:15] Copying TaskTimer may affect the parent PipelineTimer, so copy will create new unlimited TaskTimer\n",
      "[08:38:15] Task: reg\n",
      "\n",
      "[08:38:15] Start automl preset with listed constraints:\n",
      "[08:38:15] - time: 300.00 seconds\n",
      "[08:38:15] - CPU: 4 cores\n",
      "[08:38:15] - memory: 16 GB\n",
      "\n",
      "[08:38:15] \u001b[1mTrain data shape: (2112, 1122)\u001b[0m\n",
      "\n",
      "[08:38:20] Layer \u001b[1m1\u001b[0m train process start. Time left 295.05 secs\n",
      "[08:38:20] Start fitting \u001b[1mLvl_0_Pipe_0_Mod_0_LinearL2\u001b[0m ...\n",
      "[08:38:21] Fitting \u001b[1mLvl_0_Pipe_0_Mod_0_LinearL2\u001b[0m finished. score = \u001b[1m-0.010027894959618327\u001b[0m\n",
      "[08:38:21] \u001b[1mLvl_0_Pipe_0_Mod_0_LinearL2\u001b[0m fitting and predicting completed\n",
      "[08:38:21] Time left 293.45 secs\n",
      "\n",
      "[08:38:22] \u001b[1mSelector_LightGBM\u001b[0m fitting and predicting completed\n",
      "[08:38:23] Start fitting \u001b[1mLvl_0_Pipe_1_Mod_0_LightGBM\u001b[0m ...\n",
      "[08:38:25] Fitting \u001b[1mLvl_0_Pipe_1_Mod_0_LightGBM\u001b[0m finished. score = \u001b[1m-0.009070555700861576\u001b[0m\n",
      "[08:38:25] \u001b[1mLvl_0_Pipe_1_Mod_0_LightGBM\u001b[0m fitting and predicting completed\n",
      "[08:38:25] Start hyperparameters optimization for \u001b[1mLvl_0_Pipe_1_Mod_1_Tuned_LightGBM\u001b[0m ... Time budget is 53.37 secs\n",
      "[08:39:20] Hyperparameters optimization for \u001b[1mLvl_0_Pipe_1_Mod_1_Tuned_LightGBM\u001b[0m completed\n",
      "[08:39:20] Start fitting \u001b[1mLvl_0_Pipe_1_Mod_1_Tuned_LightGBM\u001b[0m ...\n",
      "[08:39:21] Fitting \u001b[1mLvl_0_Pipe_1_Mod_1_Tuned_LightGBM\u001b[0m finished. score = \u001b[1m-0.008609397739041479\u001b[0m\n",
      "[08:39:21] \u001b[1mLvl_0_Pipe_1_Mod_1_Tuned_LightGBM\u001b[0m fitting and predicting completed\n",
      "[08:39:21] Start fitting \u001b[1mLvl_0_Pipe_1_Mod_2_CatBoost\u001b[0m ...\n",
      "[08:39:29] Fitting \u001b[1mLvl_0_Pipe_1_Mod_2_CatBoost\u001b[0m finished. score = \u001b[1m-0.008573693006295681\u001b[0m\n",
      "[08:39:29] \u001b[1mLvl_0_Pipe_1_Mod_2_CatBoost\u001b[0m fitting and predicting completed\n",
      "[08:39:29] Start hyperparameters optimization for \u001b[1mLvl_0_Pipe_1_Mod_3_Tuned_CatBoost\u001b[0m ... Time budget is 126.68 secs\n",
      "[08:41:41] Hyperparameters optimization for \u001b[1mLvl_0_Pipe_1_Mod_3_Tuned_CatBoost\u001b[0m completed\n",
      "[08:41:41] Start fitting \u001b[1mLvl_0_Pipe_1_Mod_3_Tuned_CatBoost\u001b[0m ...\n",
      "[08:41:56] Fitting \u001b[1mLvl_0_Pipe_1_Mod_3_Tuned_CatBoost\u001b[0m finished. score = \u001b[1m-0.008487769506372747\u001b[0m\n",
      "[08:41:56] \u001b[1mLvl_0_Pipe_1_Mod_3_Tuned_CatBoost\u001b[0m fitting and predicting completed\n",
      "[08:41:56] Time left 78.24 secs\n",
      "\n",
      "[08:41:56] \u001b[1mLayer 1 training completed.\u001b[0m\n",
      "\n",
      "[08:41:56] Blending: optimization starts with equal weights and score \u001b[1m-0.008134895731766154\u001b[0m\n",
      "[08:41:56] Blending: iteration \u001b[1m0\u001b[0m: score = \u001b[1m-0.00806422600929948\u001b[0m, weights = \u001b[1m[0.26492405 0.         0.34484836 0.18561141 0.20461628]\u001b[0m\n",
      "[08:41:56] Blending: iteration \u001b[1m1\u001b[0m: score = \u001b[1m-0.008064187735919992\u001b[0m, weights = \u001b[1m[0.26531705 0.         0.3450905  0.17942114 0.21017134]\u001b[0m\n",
      "[08:41:56] Blending: iteration \u001b[1m2\u001b[0m: score = \u001b[1m-0.00806417352704993\u001b[0m, weights = \u001b[1m[0.2655398  0.         0.34524965 0.17563167 0.2135788 ]\u001b[0m\n",
      "[08:41:56] Blending: iteration \u001b[1m3\u001b[0m: score = \u001b[1m-0.008064168284644924\u001b[0m, weights = \u001b[1m[0.26567262 0.         0.34536654 0.17330731 0.21565354]\u001b[0m\n",
      "[08:41:56] Blending: iteration \u001b[1m4\u001b[0m: score = \u001b[1m-0.008064166446828796\u001b[0m, weights = \u001b[1m[0.2657739  0.         0.3454648  0.17192139 0.2168399 ]\u001b[0m\n",
      "[08:41:56] \u001b[1mAutoml preset training completed in 221.84 seconds\u001b[0m\n",
      "\n",
      "[08:41:56] Model description:\n",
      "Final prediction for new objects (level 0) = \n",
      "\t 0.26577 * (5 averaged models Lvl_0_Pipe_0_Mod_0_LinearL2) +\n",
      "\t 0.34546 * (5 averaged models Lvl_0_Pipe_1_Mod_1_Tuned_LightGBM) +\n",
      "\t 0.17192 * (5 averaged models Lvl_0_Pipe_1_Mod_2_CatBoost) +\n",
      "\t 0.21684 * (5 averaged models Lvl_0_Pipe_1_Mod_3_Tuned_CatBoost) \n",
      "\n",
      "Wall time: 3min 41s\n"
     ]
    }
   ],
   "source": [
    "%%time\n",
    "# обучение модели\n",
    "\n",
    "oof_pred = automl.fit_predict(train_data, roles = roles, verbose = 1)\n"
   ]
  },
  {
   "cell_type": "code",
   "execution_count": 9,
   "metadata": {},
   "outputs": [
    {
     "name": "stdout",
     "output_type": "stream",
     "text": [
      "Обучающая выборка R2_score: 0.79368\n",
      "Тестовая выборка R2_score: 0.76281\n",
      "Оценка : 0.08738\n"
     ]
    }
   ],
   "source": [
    "# метрики модели\n",
    "\n",
    "test_pred = automl.predict(test_data)\n",
    "print(f'Обучающая выборка R2_score: {np.sqrt(r2_score(train_data[TARGET_NAME].values, oof_pred.data[:, 0])):.5}')\n",
    "print(f'Тестовая выборка R2_score: {np.sqrt(r2_score(test_data[TARGET_NAME].values, test_pred.data[:, 0])):.5}')\n",
    "RMSE = np.sqrt(mean_squared_error(test_data[TARGET_NAME].values, test_pred.data[:, 0]))\n",
    "print(f'Оценка : {RMSE:.5}')\n"
   ]
  },
  {
   "cell_type": "code",
   "execution_count": 11,
   "metadata": {},
   "outputs": [
    {
     "name": "stdout",
     "output_type": "stream",
     "text": [
      "Final prediction for new objects (level 0) = \n",
      "\t 0.26577 * (5 averaged models Lvl_0_Pipe_0_Mod_0_LinearL2) +\n",
      "\t 0.34546 * (5 averaged models Lvl_0_Pipe_1_Mod_1_Tuned_LightGBM) +\n",
      "\t 0.17192 * (5 averaged models Lvl_0_Pipe_1_Mod_2_CatBoost) +\n",
      "\t 0.21684 * (5 averaged models Lvl_0_Pipe_1_Mod_3_Tuned_CatBoost) \n"
     ]
    }
   ],
   "source": [
    "# описание подобранной модели\n",
    "\n",
    "print(automl.create_model_str_desc())"
   ]
  },
  {
   "cell_type": "code",
   "execution_count": 14,
   "metadata": {},
   "outputs": [
    {
     "data": {
      "image/png": "[encoded data removed]",
      "text/plain": [
       "<Figure size 2160x720 with 1 Axes>"
      ]
     },
     "metadata": {
      "needs_background": "light"
     },
     "output_type": "display_data"
    }
   ],
   "source": [
    "# Выведем на график самые важные фичи модели\n",
    "\n",
    "fast_fi = automl.get_feature_scores('fast')\n",
    "fast_fi.set_index('Feature')['Importance'][:50].plot.bar(figsize = (30, 10), grid = True);"
   ]
  },
  {
   "cell_type": "code",
   "execution_count": 15,
   "metadata": {},
   "outputs": [],
   "source": [
    "# сохранение модели\n",
    "\n",
    "filename = 'aml_model.sav'\n",
    "pkl.dump(automl, open(filename, 'wb'))"
   ]
  },
  {
   "cell_type": "markdown",
   "metadata": {},
   "source": [
    "Результаты построения трех моделей: модели Lasso и xgboost переобучились, их можно регуляризировать, но тогда это даст метрики моделей, которые будут хуже метрик модели LightAutoML. Последняя модель сразу обучилась хорошо (метрики на обучающей и тестовой выборках близки по своим значениям), поэтому ее можно выбрать для дальнейшего использования. "
   ]
  }
 ],
 "metadata": {
  "kernelspec": {
   "display_name": "Python 3",
   "language": "python",
   "name": "python3"
  },
  "language_info": {
   "codemirror_mode": {
    "name": "ipython",
    "version": 3
   },
   "file_extension": ".py",
   "mimetype": "text/x-python",
   "name": "python",
   "nbconvert_exporter": "python",
   "pygments_lexer": "ipython3",
   "version": "3.8.5"
  },
  "toc": {
   "base_numbering": 1,
   "nav_menu": {},
   "number_sections": true,
   "sideBar": true,
   "skip_h1_title": false,
   "title_cell": "Table of Contents",
   "title_sidebar": "Contents",
   "toc_cell": false,
   "toc_position": {},
   "toc_section_display": true,
   "toc_window_display": false
  }
 },
 "nbformat": 4,
 "nbformat_minor": 4
}
